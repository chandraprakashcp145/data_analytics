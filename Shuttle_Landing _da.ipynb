{
  "nbformat": 4,
  "nbformat_minor": 0,
  "metadata": {
    "colab": {
      "provenance": []
    },
    "kernelspec": {
      "name": "python3",
      "display_name": "Python 3"
    },
    "language_info": {
      "name": "python"
    }
  },
  "cells": [
    {
      "cell_type": "markdown",
      "source": [
        "DATA ANALYTICS ASSIGNMENT\n",
        "\n",
        "DATASET- SHUTTLE-LANDING\n",
        "\n",
        "NAME- A M CHANDRA PRAKASH\n",
        "\n",
        "ROLL NUMBER-22MCS0030"
      ],
      "metadata": {
        "id": "eOjGOQfLiLXQ"
      }
    },
    {
      "cell_type": "code",
      "execution_count": null,
      "metadata": {
        "id": "pIxOMIh6ZPIG"
      },
      "outputs": [],
      "source": [
        "import numpy as np\n",
        "import pandas as pd\n"
      ]
    },
    {
      "cell_type": "code",
      "source": [
        "df=pd.read_csv('/content/csv_result-dataset_114_shuttle-landing-control.csv')"
      ],
      "metadata": {
        "id": "Aj_pKovnaCdq"
      },
      "execution_count": null,
      "outputs": []
    },
    {
      "cell_type": "code",
      "source": [
        "#Basic Data Exploration\n",
        "print(\"Number of rows:\", len(df))\n",
        "print(\"Number of columns:\", len(df.columns))\n",
        "print(\"Data types of each column:\")\n",
        "print(df.dtypes)\n",
        "print(\"Missing values:\")\n",
        "print(df.isnull().sum())"
      ],
      "metadata": {
        "colab": {
          "base_uri": "https://localhost:8080/"
        },
        "id": "tHErrJYzaL0m",
        "outputId": "8e64978f-efed-4e65-b17a-b631cd1d5a13"
      },
      "execution_count": null,
      "outputs": [
        {
          "output_type": "stream",
          "name": "stdout",
          "text": [
            "Number of rows: 15\n",
            "Number of columns: 8\n",
            "Data types of each column:\n",
            "id             int64\n",
            "Class          int64\n",
            "STABILITY     object\n",
            "ERROR         object\n",
            "SIGN          object\n",
            "WIND          object\n",
            "MAGNITUDE     object\n",
            "VISIBILITY     int64\n",
            "dtype: object\n",
            "Missing values:\n",
            "id            0\n",
            "Class         0\n",
            "STABILITY     0\n",
            "ERROR         0\n",
            "SIGN          0\n",
            "WIND          0\n",
            "MAGNITUDE     0\n",
            "VISIBILITY    0\n",
            "dtype: int64\n"
          ]
        }
      ]
    },
    {
      "cell_type": "code",
      "source": [
        "#Handling the missing values\n",
        "from sklearn.impute import SimpleImputer\n",
        "imputer = SimpleImputer(strategy='most_frequent')  \n",
        "df_filled = pd.DataFrame(imputer.fit_transform(df), columns=df.columns)\n",
        "print(df_filled)\n"
      ],
      "metadata": {
        "colab": {
          "base_uri": "https://localhost:8080/"
        },
        "id": "FqH1nVdYaQF7",
        "outputId": "509225fd-057f-4c36-966b-5131f5cef05b"
      },
      "execution_count": null,
      "outputs": [
        {
          "output_type": "stream",
          "name": "stdout",
          "text": [
            "    id Class STABILITY ERROR SIGN WIND MAGNITUDE VISIBILITY Cluster\n",
            "0    3     1         1     2    ?    ?         ?          1       0\n",
            "1    4     1         1     1    ?    ?         ?          1       0\n",
            "2    5     1         1     3    2    2         ?          1       1\n",
            "3    7     2         1     4    ?    ?         1          1       2\n",
            "4    8     2         1     4    ?    ?         2          1       2\n",
            "5    9     2         1     4    ?    ?         3          1       2\n",
            "6   10     2         1     3    1    1         1          1       1\n",
            "7   11     2         1     3    1    1         2          1       1\n",
            "8   12     2         1     3    1    2         1          1       1\n",
            "9   13     2         1     3    1    2         2          1       1\n",
            "10  14     1         1     3    1    1         3          1       1\n",
            "11  15     2         1     3    1    2         3          1       1\n"
          ]
        }
      ]
    },
    {
      "cell_type": "code",
      "source": [
        "#Descriptive analysis\n",
        "print(\"Summary statistics:\")\n",
        "print(df.describe())\n"
      ],
      "metadata": {
        "colab": {
          "base_uri": "https://localhost:8080/"
        },
        "id": "3E2dwNGcacnz",
        "outputId": "8ac5fde8-c521-4bd8-cc37-bcc52aa03480"
      },
      "execution_count": null,
      "outputs": [
        {
          "output_type": "stream",
          "name": "stdout",
          "text": [
            "Summary statistics:\n",
            "              id      Class  VISIBILITY\n",
            "count  15.000000  15.000000   15.000000\n",
            "mean    8.000000   1.600000    1.066667\n",
            "std     4.472136   0.507093    0.258199\n",
            "min     1.000000   1.000000    1.000000\n",
            "25%     4.500000   1.000000    1.000000\n",
            "50%     8.000000   2.000000    1.000000\n",
            "75%    11.500000   2.000000    1.000000\n",
            "max    15.000000   2.000000    2.000000\n"
          ]
        }
      ]
    },
    {
      "cell_type": "code",
      "source": [
        "df_filled['VISIBILITY'].value_counts().plot(kind='bar')\n",
        "plt.xlabel('Visibility')\n",
        "plt.ylabel('Frequency')\n",
        "plt.title('Visibility Distribution')\n",
        "plt.show()"
      ],
      "metadata": {
        "colab": {
          "base_uri": "https://localhost:8080/",
          "height": 467
        },
        "id": "2gG48akNay2h",
        "outputId": "9ddba2bd-6888-4da1-e620-9a4a720fc968"
      },
      "execution_count": null,
      "outputs": [
        {
          "output_type": "display_data",
          "data": {
            "text/plain": [
              "<Figure size 640x480 with 1 Axes>"
            ],
            "image/png": "[encoded data removed]"
          },
          "metadata": {}
        }
      ]
    },
    {
      "cell_type": "code",
      "source": [
        "#PRINTING THE CORRELATION MATRIX\n",
        "correlation_matrix = df.corr()\n",
        "print(\"Correlation matrix:\")\n",
        "print(correlation_matrix)\n"
      ],
      "metadata": {
        "colab": {
          "base_uri": "https://localhost:8080/"
        },
        "id": "Npewol2cbA6l",
        "outputId": "b8fa6be1-948f-489e-bdeb-d69d92ab0442"
      },
      "execution_count": null,
      "outputs": [
        {
          "output_type": "stream",
          "name": "stdout",
          "text": [
            "Correlation matrix:\n",
            "                  id     Class  VISIBILITY\n",
            "id          1.000000  0.440959   -0.433013\n",
            "Class       0.440959  1.000000    0.218218\n",
            "VISIBILITY -0.433013  0.218218    1.000000\n"
          ]
        },
        {
          "output_type": "stream",
          "name": "stderr",
          "text": [
            "<ipython-input-25-7a7341cd5616>:1: FutureWarning: The default value of numeric_only in DataFrame.corr is deprecated. In a future version, it will default to False. Select only valid columns or specify the value of numeric_only to silence this warning.\n",
            "  correlation_matrix = df.corr()\n"
          ]
        }
      ]
    },
    {
      "cell_type": "code",
      "source": [
        "#Performing Predictive analysis on ERROR Using Logistic Regression\n",
        "from sklearn.model_selection import train_test_split\n",
        "from sklearn.linear_model import LogisticRegression\n",
        "from sklearn.metrics import accuracy_score\n",
        "\n",
        "target_variable = 'ERROR'  # Replace 'ERROR' with the desired column name as the target variable\n",
        "\n",
        "# Remove rows with '?' in the target variable column\n",
        "df = df[df[target_variable] != '?']\n",
        "\n",
        "# Convert target variable to numeric\n",
        "df[target_variable] = pd.to_numeric(df[target_variable])\n",
        "\n",
        "# Separate features and target variable\n",
        "X = df.drop([target_variable], axis=1)  # Features\n",
        "y = df[target_variable]  # Target variable\n",
        "\n",
        "# Perform one-hot encoding on categorical variables\n",
        "X = pd.get_dummies(X)\n",
        "X_train, X_test, y_train, y_test = train_test_split(X, y, test_size=0.2, random_state=42)\n",
        "\n",
        "model = LogisticRegression()\n",
        "model.fit(X_train, y_train)\n",
        "\n",
        "y_pred = model.predict(X_test)\n",
        "accuracy = accuracy_score(y_test, y_pred)\n",
        "print(\"Accuracy:\", accuracy)\n"
      ],
      "metadata": {
        "colab": {
          "base_uri": "https://localhost:8080/"
        },
        "id": "LcwlIiVCc2aQ",
        "outputId": "12ece5bd-0d82-41cc-b661-24d6d654e5d3"
      },
      "execution_count": null,
      "outputs": [
        {
          "output_type": "stream",
          "name": "stdout",
          "text": [
            "Accuracy: 0.6666666666666666\n"
          ]
        }
      ]
    },
    {
      "cell_type": "code",
      "source": [
        "#Drawing a Kmeans Clustering Graph with K=3\n",
        "from sklearn.cluster import KMeans\n",
        "\n",
        "\n",
        "\n",
        "target_variable = 'ERROR'  # Replace 'ERROR' with the desired column name as the target variable\n",
        "\n",
        "# Remove rows with '?' in the target variable column\n",
        "df_filled = df_filled[df_filled[target_variable] != '?']\n",
        "\n",
        "# Convert target variable to numeric\n",
        "df_filled[target_variable] = pd.to_numeric(df_filled[target_variable])\n",
        "\n",
        "target_variable = 'VISIBILITY'  # Replace 'ERROR' with the desired column name as the target variable\n",
        "\n",
        "# Remove rows with '?' in the target variable column\n",
        "df_filled = df_filled[df_filled[target_variable] != '?']\n",
        "\n",
        "# Convert target variable to numeric\n",
        "df_filled[target_variable] = pd.to_numeric(df_filled[target_variable])\n",
        "\n",
        "\n",
        "features = df_filled[['VISIBILITY', 'ERROR']]  # Features for clustering\n",
        "\n",
        "# Define the number of clusters\n",
        "num_clusters = 3\n",
        "\n",
        "kmeans = KMeans(n_clusters=num_clusters)\n",
        "kmeans.fit(features)\n",
        "cluster_labels = kmeans.labels_\n",
        "\n",
        "# Add the cluster labels to the dataset\n",
        "df['Cluster'] = cluster_labels\n",
        "\n",
        "# Step 7: Visualization of 'VISIBILITY' vs 'ERROR' after clustering\n",
        "plt.scatter(df_filled['VISIBILITY'], df_filled['ERROR'])\n",
        "plt.xlabel('VISIBILITY')\n",
        "plt.ylabel('ERROR')\n",
        "plt.title('Visibility vs Error (After Clustering)')\n",
        "plt.show()"
      ],
      "metadata": {
        "colab": {
          "base_uri": "https://localhost:8080/",
          "height": 528
        },
        "id": "ddLpGDVGfTi-",
        "outputId": "56b1bf0a-e46e-4d0a-c12c-46c84cd4c21e"
      },
      "execution_count": null,
      "outputs": [
        {
          "output_type": "stream",
          "name": "stderr",
          "text": [
            "/usr/local/lib/python3.10/dist-packages/sklearn/cluster/_kmeans.py:870: FutureWarning: The default value of `n_init` will change from 10 to 'auto' in 1.4. Set the value of `n_init` explicitly to suppress the warning\n",
            "  warnings.warn(\n"
          ]
        },
        {
          "output_type": "display_data",
          "data": {
            "text/plain": [
              "<Figure size 640x480 with 1 Axes>"
            ],
            "image/png": "[encoded data removed]"
          },
          "metadata": {}
        }
      ]
    },
    {
      "cell_type": "markdown",
      "source": [
        "Conclusion-\n",
        "We can see that in modern shuttles due to the availability of Radar and other such high technology equipments,the error is not dependent on the visibility"
      ],
      "metadata": {
        "id": "4zqlahWjhwhX"
      }
    },
    {
      "cell_type": "code",
      "source": [],
      "metadata": {
        "id": "eCPa7keRf7Oe"
      },
      "execution_count": null,
      "outputs": []
    }
  ]
}